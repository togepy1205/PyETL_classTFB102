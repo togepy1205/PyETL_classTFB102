{
 "cells": [
  {
   "cell_type": "code",
   "execution_count": 1,
   "id": "9463db05",
   "metadata": {},
   "outputs": [],
   "source": [
    "import requests\n",
    "from bs4 import BeautifulSoup\n",
    "import pandas as pd\n",
    "import json\n",
    "import re\n",
    "import time\n",
    "import os\n",
    "from IPython.display import clear_output"
   ]
  },
  {
   "cell_type": "code",
   "execution_count": null,
   "id": "e17855a9",
   "metadata": {},
   "outputs": [],
   "source": [
    "headers = {'User-Agent':'GoogleBot'}"
   ]
  },
  {
   "cell_type": "code",
   "execution_count": null,
   "id": "4c7dd5ce",
   "metadata": {},
   "outputs": [],
   "source": [
    "url = 'https://static.104.com.tw/category-tool/json/Area.json'\n",
    "resp = requests.get(url)\n",
    "df1 = []\n",
    "for i in resp.json()[0]['n']:\n",
    "    ndf = pd.DataFrame(i['n'])\n",
    "    ndf['city'] = i['des']\n",
    "    df1.append(ndf)\n",
    "df1=pd.concat(df1, ignore_index=True)\n",
    "df1 = df1.loc[:,['city','des','no']]\n",
    "df1 = df1.sort_values('no')\n",
    "df1"
   ]
  },
  {
   "cell_type": "code",
   "execution_count": null,
   "id": "c956fffa",
   "metadata": {},
   "outputs": [],
   "source": [
    "url= 'https://static.104.com.tw/category-tool/json/JobCat.json'\n",
    "resp = requests.get(url)\n",
    "df2 = []\n",
    "for i in resp.json():\n",
    "    for j in i['n']:\n",
    "        ndf = pd.DataFrame(j['n'])\n",
    "        ndf['des1'] = i['des']# 職務大分類\n",
    "        ndf['des2'] = j['des']# 職務小分類\n",
    "        df2.append(ndf)\n",
    "df2 = pd.concat(df2, ignore_index=True)\n",
    "df2 = df2.loc[:,['des1', 'des2', 'des', 'no']]\n",
    "df2 = df2.sort_values('no')\n",
    "df2"
   ]
  },
  {
   "cell_type": "code",
   "execution_count": null,
   "id": "ec5b87a4",
   "metadata": {},
   "outputs": [],
   "source": [
    "tmp = pd.DataFrame([re.sub('\\.pkl','',file)for file in os.listdir('./data')],columns=['no'])\n",
    "df1 = pd.merge(df1, tmp, how='left',on='no',indicator=True)\n",
    "df1 = df1.loc[df1['_merge']!='both',:]\n",
    "df1"
   ]
  },
  {
   "cell_type": "code",
   "execution_count": null,
   "id": "9615472a",
   "metadata": {},
   "outputs": [],
   "source": [
    "columns = ['公司名稱','公司編號','公司類別','公司類別描述', '公司連結','職缺名稱','職務性質','職缺大分類', '職缺中分類','職缺小分類', '職缺編號', '職務內容','更新日期', '職缺連結', '標籤','公司地址','地區','經歷','學歷']\n",
    "\n",
    "for areades, areacode in zip(df1['des'],df1['no']):\n",
    "    values = []\n",
    "    for jobdes1, jobdes2, jobdes, jobcode in zip(df2['des1'], df2['des2'], df2['des'], df2['no']):\n",
    "        print(areades, ' | ', jobdes1, ' - ', jobdes2, ' - ' ,jobdes)\n",
    "        page = 1\n",
    "        while page <150:\n",
    "            try:\n",
    "                url = 'https://www.104.com.tw/jobs/search/?ro=0&jobcat={}&jobcatExpansionType=1&area={}&order=11&asc=0&page={}&mode=s&jobsource=2018indexpoc'.format(jobcode, areacode, page)\n",
    "                print(url)\n",
    "                resp = requests.get(url,headers=headers)\n",
    "                soup = BeautifulSoup(resp.text)\n",
    "                soup2 = soup.find('div',{'id':'js-job-content'}).findAll('article',{'class':'b-block--top-bord job-list-item b-clearfix js-job-item'})\n",
    "                print(len(soup2))\n",
    "\n",
    "                for job in soup2:\n",
    "                                        \n",
    "                    update_date = job.find('span',{'class':'b-tit__date'}).text\n",
    "                    update_date = re.sub('\\r|\\n| ','',update_date)\n",
    "\n",
    "                    try:\n",
    "                        address = job.select('ul > li > a')[0]['title']\n",
    "                        address = re.findall('公司住址：(.*?)$',address)[0]\n",
    "                    except:\n",
    "                        address = ''\n",
    "                   \n",
    "                    loc = job.find('ul',{'class':'b-list-inline b-clearfix job-list-intro b-content'}).findAll('li')[0].text\n",
    "                    exp = job.find('ul',{'class':'b-list-inline b-clearfix job-list-intro b-content'}).findAll('li')[1].text\n",
    "                    try:\n",
    "                        edu = job.find('ul',{'class':'b-list-inline b-clearfix job-list-intro b-content'}).findAll('li')[2].text\n",
    "                    except:\n",
    "                        edu = ''\n",
    "                    \n",
    "                    try:\n",
    "                        content = job.find('p').text\n",
    "                    except:\n",
    "                        content = ''\n",
    "                    try:\n",
    "                        tags = [tag.text for tag in soup2[0].find('div',{'class':'job-list-tag b-content'}).findAll('span')]\n",
    "                    except:\n",
    "                        tags = []\n",
    "                    \n",
    "                    \n",
    "                    value = [job['data-cust-name'], # 公司名稱\n",
    "                             job['data-cust-no'], # 公司編號\n",
    "                             job['data-indcat'], # 公司類別\n",
    "                             job['data-indcat-desc'], # 公司類別描述\n",
    "                             job.select('ul > li > a')[0]['href'], # 公司連結\n",
    "                             job['data-job-name'],# 職缺名稱\n",
    "                             job['data-job-ro'], # 職務性質 _判斷全職兼職 1全職/2兼職/3高階/4派遣/5接案/6家教\n",
    "                             jobdes1, # 職缺大分類\n",
    "                             jobdes2, # 職缺中分類\n",
    "                             jobdes, # 職缺小分類\n",
    "                             job['data-job-no'],# 職缺編號\n",
    "                             content, # 職務內容\n",
    "                             update_date, # 更新日期\n",
    "                             job.find('a',{'class':'js-job-link'})['href'], # 職缺連結\n",
    "                             tags, # 標籤\n",
    "                             address,# 公司地址\n",
    "                             loc, # 地區\n",
    "                             exp,# 經歷\n",
    "                             edu  # 學歷\n",
    "                            ]\n",
    "                    values.append(value)\n",
    "                \n",
    "                page+=1\n",
    "                print(len(values))\n",
    "                if len(soup2) < 20:\n",
    "                    break\n",
    "            except:\n",
    "                print('Retry')\n",
    "        \n",
    "    df = pd.DataFrame()\n",
    "    df = pd.DataFrame(values, columns=columns)\n",
    "    df.to_pickle('./data/' + areacode + '.pkl')\n",
    "    clear_output()\n",
    "    print('===================================  Save Data  ===================================')"
   ]
  },
  {
   "cell_type": "code",
   "execution_count": null,
   "id": "3a809aff",
   "metadata": {},
   "outputs": [],
   "source": [
    "df = []\n",
    "for i in os.listdir('./data/'):\n",
    "    ndf = pd.read_pickle('./data/' + i)\n",
    "    df.append(ndf)\n",
    "df = pd.concat(df, ignore_index=True)\n",
    "df.info()"
   ]
  },
  {
   "cell_type": "code",
   "execution_count": null,
   "id": "7ba15ce4",
   "metadata": {},
   "outputs": [],
   "source": []
  },
  {
   "cell_type": "code",
   "execution_count": null,
   "id": "97fc425e",
   "metadata": {},
   "outputs": [],
   "source": []
  },
  {
   "cell_type": "code",
   "execution_count": null,
   "id": "f8a43799",
   "metadata": {},
   "outputs": [],
   "source": []
  },
  {
   "cell_type": "code",
   "execution_count": null,
   "id": "4139a7d5",
   "metadata": {},
   "outputs": [],
   "source": []
  },
  {
   "cell_type": "code",
   "execution_count": null,
   "id": "fa694824",
   "metadata": {},
   "outputs": [],
   "source": []
  }
 ],
 "metadata": {
  "kernelspec": {
   "display_name": "Python 3",
   "language": "python",
   "name": "python3"
  },
  "language_info": {
   "codemirror_mode": {
    "name": "ipython",
    "version": 3
   },
   "file_extension": ".py",
   "mimetype": "text/x-python",
   "name": "python",
   "nbconvert_exporter": "python",
   "pygments_lexer": "ipython3",
   "version": "3.9.4"
  }
 },
 "nbformat": 4,
 "nbformat_minor": 5
}
