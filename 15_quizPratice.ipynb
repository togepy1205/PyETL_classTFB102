{
 "cells": [
  {
   "cell_type": "code",
   "execution_count": 23,
   "id": "3ccbc988",
   "metadata": {},
   "outputs": [
    {
     "name": "stdout",
     "output_type": "stream",
     "text": [
      "{\n",
      "  \"Status\": \"OK\", \n",
      "  \"Success\": true, \n",
      "  \"td\": 1.0011725425720215\n",
      "}\n",
      "\n"
     ]
    }
   ],
   "source": [
    "import requests\n",
    "from bs4 import BeautifulSoup\n",
    "\n",
    "url = 'http://ec2-13-113-4-216.ap-northeast-1.compute.amazonaws.com/practice/tfb102-23'\n",
    "    \n",
    "userAgent = 'Mozilla/5.0 (Windows NT 10.0; Win64; x64) AppleWebKit/537.36 (KHTML, like Gecko) Chrome/90.0.4430.212 Safari/537.36'\n",
    "headers = {\n",
    "    'User-Agent': userAgent\n",
    "}\n",
    "\n",
    "ss = requests.session()\n",
    "\n",
    "res = ss.get(url, headers=headers)\n",
    "soup = BeautifulSoup(res.text, 'html.parser')\n",
    "key = soup.select('input')[1]['name']\n",
    "value = soup.select('input')[1]['value']\n",
    "\n",
    "data = {\n",
    "    key: value,\n",
    "    'pwd': 'Jessy',\n",
    "}\n",
    "\n",
    "res = ss.post(url, headers=headers, data=data)\n",
    "print(res.text)"
   ]
  }
 ],
 "metadata": {
  "kernelspec": {
   "display_name": "Python 3",
   "language": "python",
   "name": "python3"
  },
  "language_info": {
   "codemirror_mode": {
    "name": "ipython",
    "version": 3
   },
   "file_extension": ".py",
   "mimetype": "text/x-python",
   "name": "python",
   "nbconvert_exporter": "python",
   "pygments_lexer": "ipython3",
   "version": "3.9.4"
  }
 },
 "nbformat": 4,
 "nbformat_minor": 5
}
