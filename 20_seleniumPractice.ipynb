{
 "cells": [
  {
   "cell_type": "code",
   "execution_count": 1,
   "id": "a5f09452",
   "metadata": {},
   "outputs": [
    {
     "name": "stdout",
     "output_type": "stream",
     "text": [
      "Defaulting to user installation because normal site-packages is not writeable\n",
      "Collecting selenium\n",
      "  Downloading selenium-3.141.0-py2.py3-none-any.whl (904 kB)\n",
      "Requirement already satisfied: urllib3 in c:\\users\\tibame_25\\appdata\\roaming\\python\\python39\\site-packages (from selenium) (1.26.4)\n",
      "Installing collected packages: selenium\n",
      "Successfully installed selenium-3.141.0\n"
     ]
    }
   ],
   "source": [
    "!pip install selenium\n",
    "# step 2 下載 Chromedriver -> 模擬 Chrome\n",
    "# http://chromedriver.chromium.org/downloads (看自己 Chrome 版本號, 去下載最接近的版本)\n",
    "# 放到你要用的資料夾"
   ]
  },
  {
   "cell_type": "code",
   "execution_count": 7,
   "id": "662382e5",
   "metadata": {},
   "outputs": [
    {
     "name": "stdout",
     "output_type": "stream",
     "text": [
      "[{'domain': 'www.ptt.cc', 'httpOnly': False, 'name': 'over18', 'path': '/', 'secure': False, 'value': '1'}, {'domain': '.ptt.cc', 'expiry': 1621843606, 'httpOnly': False, 'name': '_gid', 'path': '/', 'secure': False, 'value': 'GA1.2.1272129125.1621757206'}, {'domain': '.ptt.cc', 'expiry': 1684829206, 'httpOnly': False, 'name': '_ga', 'path': '/', 'secure': False, 'value': 'GA1.2.2094943600.1621757206'}, {'domain': '.ptt.cc', 'expiry': 1621757265, 'httpOnly': False, 'name': '_gat', 'path': '/', 'secure': False, 'value': '1'}, {'domain': '.ptt.cc', 'expiry': 1621759005, 'httpOnly': True, 'name': '__cf_bm', 'path': '/', 'sameSite': 'None', 'secure': True, 'value': 'f52d0c044f29561b1fa5c095303b126149e528db-1621757206-1800-AVcu1EYAltGpSRWpF2+eGMc8JhroOpKNSrgLKK9Hsx8E4BqLagdPH2WhExhOG/p9w1nYxokce4nIm2iSW5wYlro='}]\n"
     ]
    }
   ],
   "source": [
    "# 用 selenium 幫你執行按下網頁按鈕的過程\n",
    "from selenium.webdriver import Chrome\n",
    "\n",
    "url = 'https://www.ptt.cc/bbs/index.html'\n",
    "\n",
    "driver = Chrome('./chromedriver')\n",
    "\n",
    "driver.get(url)\n",
    "# macOS 可能會有權限問題, 記得去改檔案權限\n",
    "\n",
    "driver.find_element_by_class_name('board-name').click()\n",
    "driver.find_element_by_class_name('btn-big').click()\n",
    "\n",
    "cookies = driver.get_cookies()\n",
    "driver.close()\n",
    "\n",
    "print(cookies)"
   ]
  },
  {
   "cell_type": "code",
   "execution_count": 8,
   "id": "c3b9bdc1",
   "metadata": {},
   "outputs": [],
   "source": [
    "import requests\n",
    "# 後面跟平常爬蟲一樣"
   ]
  }
 ],
 "metadata": {
  "kernelspec": {
   "display_name": "Python 3",
   "language": "python",
   "name": "python3"
  },
  "language_info": {
   "codemirror_mode": {
    "name": "ipython",
    "version": 3
   },
   "file_extension": ".py",
   "mimetype": "text/x-python",
   "name": "python",
   "nbconvert_exporter": "python",
   "pygments_lexer": "ipython3",
   "version": "3.9.4"
  }
 },
 "nbformat": 4,
 "nbformat_minor": 5
}
