{
 "cells": [
  {
   "cell_type": "code",
   "execution_count": 1,
   "id": "bdcd3c3e",
   "metadata": {
    "scrolled": true
   },
   "outputs": [
    {
     "name": "stdout",
     "output_type": "stream",
     "text": [
      "Defaulting to user installation because normal site-packages is not writeable\n",
      "Collecting jieba\n",
      "  Downloading jieba-0.42.1.tar.gz (19.2 MB)\n",
      "Using legacy 'setup.py install' for jieba, since package 'wheel' is not installed.\n",
      "Installing collected packages: jieba\n",
      "    Running setup.py install for jieba: started\n",
      "    Running setup.py install for jieba: finished with status 'done'\n",
      "Successfully installed jieba-0.42.1\n"
     ]
    }
   ],
   "source": [
    "!pip install jieba"
   ]
  },
  {
   "cell_type": "code",
   "execution_count": 2,
   "id": "511b066e",
   "metadata": {},
   "outputs": [],
   "source": [
    "import jieba"
   ]
  },
  {
   "cell_type": "code",
   "execution_count": 7,
   "id": "5472587c",
   "metadata": {},
   "outputs": [
    {
     "name": "stdout",
     "output_type": "stream",
     "text": [
      "大家 | 好 | , |   |  | 我 | 叫 | 小 | 賀 | , |   |  | 今天 | 來 | 緯 | 育 | 大 | 數 | 據 | 班上 | 課 | , |   |  | 覺 | 得 | 非常 | 開 | 心 | 。\n",
      "大家 | 好 | , |   | 我 | 叫 | 小賀 | , |   | 今天 | 來緯育 | 大數據 | 班上 | 課 | , |   | 覺得 | 非常 | 開心 | 。\n",
      "大家 | 好 | , |   | 我 | 叫 | 小賀 | , |   | 今天 | 來緯育 | 大數據 | 班上 | 課 | , |   | 覺得 | 非常 | 開心 | 。\n",
      "大家 | 好 | , |   | 我 | 叫 | 小賀 | , |   | 今天 | 來緯育 | 大數據 | 班上 | 課 | , |   | 覺得 | 非常 | 開心 | 。\n"
     ]
    }
   ],
   "source": [
    "s ='大家好, 我叫小賀, 今天來緯育大數據班上課, 覺得非常開心。'\n",
    "\n",
    "s1List = jieba.cut(s, cut_all=True) # (string, mode)\n",
    "s2List = jieba.cut(s, cut_all=False) # 精確模式\n",
    "s3List = jieba.cut(s) # default\n",
    "s4List = jieba.cut_for_search(s) # 搜尋引擎模式\n",
    "\n",
    "print(' | '.join(s1List))\n",
    "print(' | '.join(s2List))\n",
    "print(' | '.join(s3List))\n",
    "print(' | '.join(s4List))"
   ]
  },
  {
   "cell_type": "code",
   "execution_count": 8,
   "id": "640df88c",
   "metadata": {},
   "outputs": [
    {
     "name": "stdout",
     "output_type": "stream",
     "text": [
      "大家 | 好 | , |   |  | 我 | 叫 | 小 | 賀 | , |   |  | 今天 | 來 | 緯育 | 大數據 | 大數據班 | 班上 | 上課 | , |   |  | 覺 | 得 | 非常 | 開 | 心 | 。\n",
      "大家 | 好 | , |   | 我 | 叫 | 小賀 | , |   | 今天 | 來 | 緯育 | 大數據班 | 上課 | , |   | 覺得 | 非常 | 開心 | 。\n",
      "大家 | 好 | , |   | 我 | 叫 | 小賀 | , |   | 今天 | 來 | 緯育 | 大數據班 | 上課 | , |   | 覺得 | 非常 | 開心 | 。\n",
      "大家 | 好 | , |   | 我 | 叫 | 小賀 | , |   | 今天 | 來 | 緯育 | 大數據 | 大數據班 | 上課 | , |   | 覺得 | 非常 | 開心 | 。\n"
     ]
    }
   ],
   "source": [
    "# 自定義字典\n",
    "jieba.load_userdict('./mydict.txt')\n",
    "\n",
    "s ='大家好, 我叫小賀, 今天來緯育大數據班上課, 覺得非常開心。'\n",
    "\n",
    "s1List = jieba.cut(s, cut_all=True) # (string, mode) 全模式, 會顯示任何有覺得是詞的第 -> 會重複\n",
    "s2List = jieba.cut(s, cut_all=False) # 精確模式\n",
    "s3List = jieba.cut(s) # default\n",
    "s4List = jieba.cut_for_search(s) # 搜尋引擎模式 -> 多關鍵字\n",
    "\n",
    "print(' | '.join(s1List))\n",
    "print(' | '.join(s2List))\n",
    "print(' | '.join(s3List))\n",
    "print(' | '.join(s4List))"
   ]
  },
  {
   "cell_type": "code",
   "execution_count": 6,
   "id": "e7189bad",
   "metadata": {},
   "outputs": [
    {
     "name": "stdout",
     "output_type": "stream",
     "text": [
      "1.3.5.7\n"
     ]
    }
   ],
   "source": [
    "# join 用法, 把想使用的分割符號換進去\n",
    "l = ['1','3','5','7']\n",
    "print('.'.join(l))"
   ]
  }
 ],
 "metadata": {
  "kernelspec": {
   "display_name": "Python 3",
   "language": "python",
   "name": "python3"
  },
  "language_info": {
   "codemirror_mode": {
    "name": "ipython",
    "version": 3
   },
   "file_extension": ".py",
   "mimetype": "text/x-python",
   "name": "python",
   "nbconvert_exporter": "python",
   "pygments_lexer": "ipython3",
   "version": "3.9.4"
  }
 },
 "nbformat": 4,
 "nbformat_minor": 5
}
