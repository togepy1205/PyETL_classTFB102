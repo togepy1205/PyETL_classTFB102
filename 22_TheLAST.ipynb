{
 "cells": [
  {
   "cell_type": "markdown",
   "id": "0d4fe012",
   "metadata": {},
   "source": [
    "# 繳交日期 6/15\n",
    "## 內容參照: https://github.com/uuboyscy/work104\n",
    "## 爬出104裡查詢出來後, 整理包含公司資訊、職缺名稱、聯絡資訊、所需技能等結果\n",
    "### Hint: 104是動態網頁, 第一頁靜態, 後面都是動態 (建議用 Selenium 逃過找不到網頁的問題)\n",
    "### 可交圖片, pdf, CSV, 程式源碼都可"
   ]
  },
  {
   "cell_type": "code",
   "execution_count": null,
   "id": "97c9ebbf",
   "metadata": {},
   "outputs": [],
   "source": [
    "# 1. import 要的 package, url, cookies\n",
    "# 2. 觀察網址資料: 網頁型態 (get or post?), cookies, 資料位置\n",
    "# 3. 處理搜尋欄輸入的動作 (做不到就進去搜尋完那頁開始)\n",
    "# 4. 資料拉下來, 並做第一次篩選 (切掉不要的部分)\n",
    "# 5. 第二次資料篩選 (選出要的東西)\n",
    "# 6. 取出要的資料, 並將其排版"
   ]
  },
  {
   "cell_type": "code",
   "execution_count": 5,
   "id": "a57b0fa0",
   "metadata": {},
   "outputs": [
    {
     "ename": "NameError",
     "evalue": "name 'cookies' is not defined",
     "output_type": "error",
     "traceback": [
      "\u001b[1;31m---------------------------------------------------------------------------\u001b[0m",
      "\u001b[1;31mNameError\u001b[0m                                 Traceback (most recent call last)",
      "\u001b[1;32m<ipython-input-5-be1b21724bcd>\u001b[0m in \u001b[0;36m<module>\u001b[1;34m\u001b[0m\n\u001b[0;32m     48\u001b[0m \u001b[0mres\u001b[0m \u001b[1;33m=\u001b[0m \u001b[0mss\u001b[0m\u001b[1;33m.\u001b[0m\u001b[0mget\u001b[0m\u001b[1;33m(\u001b[0m\u001b[0murl\u001b[0m\u001b[1;33m)\u001b[0m\u001b[1;33m\u001b[0m\u001b[1;33m\u001b[0m\u001b[0m\n\u001b[0;32m     49\u001b[0m \u001b[1;31m#driver.close()\u001b[0m\u001b[1;33m\u001b[0m\u001b[1;33m\u001b[0m\u001b[1;33m\u001b[0m\u001b[0m\n\u001b[1;32m---> 50\u001b[1;33m \u001b[0mprint\u001b[0m\u001b[1;33m(\u001b[0m\u001b[0mcookies\u001b[0m\u001b[1;33m)\u001b[0m\u001b[1;33m\u001b[0m\u001b[1;33m\u001b[0m\u001b[0m\n\u001b[0m",
      "\u001b[1;31mNameError\u001b[0m: name 'cookies' is not defined"
     ]
    }
   ],
   "source": [
    "# 搜尋\n",
    "import requests\n",
    "from bs4 import BeautifulSoup\n",
    "import json\n",
    "import glob\n",
    "import os\n",
    "import time\n",
    "from selenium.webdriver import Chrome\n",
    "import pandas as pd\n",
    "\n",
    "# 網址, 開 chrome, 接 cookie\n",
    "url = \"https://www.104.com.tw/jobs/main/\"\n",
    "driver = Chrome('./chromedriver')\n",
    "driver.get(url)\n",
    "ss = requests.session()\n",
    "\n",
    "# 輸入關鍵字\n",
    "driver.find_element_by_xpath('//*[@id=\"ikeyword\"]').send_keys('資料分析師')\n",
    "driver.find_element_by_xpath('/html/body/article[1]/div/div/div[4]/div/button').click()\n",
    "\n",
    "# 往下翻頁\n",
    "time.sleep(3)\n",
    "driver.execute_script('var a = document.documentElement.scrollTop=5000')\n",
    "time.sleep(3)\n",
    "driver.execute_script('var a = document.documentElement.scrollTop=10000')\n",
    "time.sleep(3)\n",
    "driver.execute_script('var a = document.documentElement.scrollTop=15000')\n",
    "time.sleep(3)\n",
    "driver.execute_script('var a = document.documentElement.scrollTop=20000')\n",
    "time.sleep(3)\n",
    "driver.execute_script('var a = document.documentElement.scrollTop=25000')\n",
    "time.sleep(3)\n",
    "driver.execute_script('var a = document.documentElement.scrollTop=30000')\n",
    "\n",
    "# 導入\n",
    "data= {\n",
    "    'ro': 0,\n",
    "    'kwop': 7,\n",
    "    'keyword': '資料分析師',\n",
    "    'expansionType': 'area,spec,com,job,wf,wktm',\n",
    "    'order': 12,\n",
    "    'asc': 0,\n",
    "    'page': 1,\n",
    "    'mode': 's',\n",
    "    'jobsource': '2018indexpoc'\n",
    "}\n",
    "\n",
    "\n",
    "\n",
    "res = ss.get(url)\n",
    "#driver.close()\n",
    "print(res.text)"
   ]
  }
 ],
 "metadata": {
  "kernelspec": {
   "display_name": "Python 3",
   "language": "python",
   "name": "python3"
  },
  "language_info": {
   "codemirror_mode": {
    "name": "ipython",
    "version": 3
   },
   "file_extension": ".py",
   "mimetype": "text/x-python",
   "name": "python",
   "nbconvert_exporter": "python",
   "pygments_lexer": "ipython3",
   "version": "3.9.4"
  }
 },
 "nbformat": 4,
 "nbformat_minor": 5
}
